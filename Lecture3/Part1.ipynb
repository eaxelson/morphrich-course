{
 "cells": [
  {
   "cell_type": "markdown",
   "metadata": {},
   "source": [
    "# MORPHOLOGICALLY RICH LANGUAGES WITH HFST TOOLS - LECTURE 3\n",
    "\n",
    "Topics: simple lexc (numerals, dates, clocks)\n",
    "\n",
    "Get acquainted with <a href=\"https://victorio.uit.no/langtech/trunk/langs/olo/src/transcriptions/\">Olonets-Karelian</a>.\n",
    "\n",
    "<ul>\n",
    "<li>1. <a href=\"#1.-Numerals\">Numerals</a></li>\n",
    "<li>2. <a href=\"#2.-Dates\">Dates</a></li>\n",
    "<li>3. <a href=\"#3.-Clocks\">Clocks</a></li>\n",
    "</ul>"
   ]
  },
  {
   "cell_type": "markdown",
   "metadata": {},
   "source": [
    "## 1. Numerals\n",
    "\n",
    "Download <a href=\"https://victorio.uit.no/langtech/trunk/langs/olo/src/transcriptions/transcriptor-numbers-digit2text.lexc\">transcriptor-numbers-digit2text.lexc</a>\n",
    "(or use a copy available in this directory). The file describes how digits are converted into text.\n"
   ]
  },
  {
   "cell_type": "code",
   "execution_count": null,
   "metadata": {},
   "outputs": [],
   "source": [
    "from hfst_dev import compile_lexc_file\n",
    "tr = compile_lexc_file('transcriptor-numbers-digit2text.lexc')"
   ]
  },
  {
   "cell_type": "code",
   "execution_count": null,
   "metadata": {},
   "outputs": [],
   "source": [
    "# test some numerals, both cardinal and ordinal\n",
    "print(tr.lookup('111'))\n",
    "print(tr.lookup('111.'))\n",
    "print(tr.lookup('345678'))\n",
    "print(tr.lookup('345678.'))"
   ]
  },
  {
   "cell_type": "markdown",
   "metadata": {},
   "source": [
    "Note that Uralic numerals follow a pattern different from e.g. Germanic ones.\n",
    "Below are listed numerals 1-99 for Finnish and English:\n",
    "\n",
    "* In both languages, numerals 1-10 must be listed individually.\n",
    "* Numerals 11-19:\n",
    "  * In Finnish: 11-19 follow the pattern N + TOISTA\n",
    "  * In English: 11, 12, 13 must be listed separately and 14-19 follow the pattern N + TEEN (but e.g. five -> fifteen)\n",
    "* Numerals 20-99:\n",
    "  * In Finnish: the pattern N + KYMMENTÄ (+ M)\n",
    "  * In English: same pattern but 20, 30 separate: two -> twenty, three -> thirty)\n",
    "  * c.f. German zwei/zwo -> zwanzig, Swedish två -> tjugo\n",
    "\n",
    "Also note that Finnish cardinals use singular partitive, e.g. 340: kolmesataaneljäkymmentä ('three of a hundred + four of a ten').\n",
    "\n",
    "Ordinal numbers:\n",
    "\n",
    "* In Finnish: ordinality is visible in all parts: 145. -> sada*s*neljä*s*kymmene*s*viide*s*\n",
    "* In English: ordinality is visible only in last part: 145. -> hundred fourty-fifth\n",
    "\n",
    "In Finnish: cardinals and ordinals are inflected in case and in number (singular, plural). For example for the ordinal 145:\n",
    "\n",
    "* singular nominative: sadasneljäskymmenesviides\n",
    "* singular translative: sadanneksineljänneksikymmenenneksiviidenneksi\n",
    "* plural nominative: sadannetneljännetkymmenennetviidennet\n",
    "* plural translative: sadansiksineljänsiksikymmenensiksiviidensiksi"
   ]
  },
  {
   "cell_type": "markdown",
   "metadata": {},
   "source": [
    "## 2. Dates\n",
    "\n",
    "Download <a href=\"https://victorio.uit.no/langtech/trunk/langs/olo/src/transcriptions/transcriptor-date-digit2text.lexc\">transcriptor-date-digit2text.lexc</a>\n",
    "(or use a copy available in this directory).\n",
    "\n",
    "Ordinals and month names are both needed. Since there are only 31 ordinals, they can be listed individually."
   ]
  },
  {
   "cell_type": "code",
   "execution_count": null,
   "metadata": {},
   "outputs": [],
   "source": [
    "tr = compile_lexc_file('transcriptor-date-digit2text.lexc')\n",
    "print(tr.lookup('1.1.'))"
   ]
  },
  {
   "cell_type": "markdown",
   "metadata": {},
   "source": [
    "Result is (('enzimäine päivy pakkaskuudu', 0.0), ('Pakkaskuun+Use/NG enzimäine päivy', 0.0), ('pakkaskuun+Use/NG enzimäine päivy', 0.0))\n",
    "\n",
    "Date can be expressed with:\n",
    "\n",
    "* partitive: 'enzimäine päivy pakkaskuudu' (\"first day of pakkaskuu\")\n",
    "* genitive: 'pakkaskuun enzimäine päivy' (\"pakkaskuu's first day\")."
   ]
  },
  {
   "cell_type": "markdown",
   "metadata": {},
   "source": [
    "Print all names of months"
   ]
  },
  {
   "cell_type": "code",
   "execution_count": null,
   "metadata": {},
   "outputs": [],
   "source": [
    "for month in range(1,13):\n",
    "    res = tr.lookup('1.' + str(month) + '.')\n",
    "    print(res[0][0].replace('enzimäine päivy ','').replace('du',''))"
   ]
  },
  {
   "cell_type": "markdown",
   "metadata": {},
   "source": [
    "Result: pakkaskuu, tuhukuu, kevätkuu, sulakuu, oraskuu, kezäkuu, heinykuu, elokuu, syvyskuu, ligakuu, kylmykuu, talvikuu\n",
    "\n",
    "* c.f. Finnish: tammikuu, helmikuu, maaliskuu, huhtikuu, toukokuu, kesäkuu, heinäkuu, elokuu, syyskuu, lokakuu, marraskuu, joulukuu\n",
    "* c.f. Estonian: jaanuar, veebruar, märts, aprill, mai, juuni, juuli, august, september, oktoober, november, detsember"
   ]
  },
  {
   "cell_type": "markdown",
   "metadata": {},
   "source": [
    "## 3. Clocks\n",
    "\n",
    "Download <a href=\"https://victorio.uit.no/langtech/trunk/langs/olo/src/transcriptions/transcriptor-clock-digit2text.lexc\">transcriptor-clock-digit2text.lexc</a>\n",
    "(or use a copy available in this directory).\n"
   ]
  },
  {
   "cell_type": "code",
   "execution_count": null,
   "metadata": {},
   "outputs": [],
   "source": [
    "tr = compile_lexc_file('transcriptor-clock-digit2text.lexc')\n",
    "hour = '11'\n",
    "for minutes in range(0,60):\n",
    "    minutes = str(minutes)\n",
    "    if len(minutes) == 1:\n",
    "        minutes = '0' + minutes\n",
    "    clock = hour + ':' + minutes\n",
    "    print(clock + '\\t' + str(tr.lookup(clock)))"
   ]
  },
  {
   "cell_type": "markdown",
   "metadata": {},
   "source": [
    "<table>\n",
    "<tr> <th>Clock</th> <th>Translation</th> </tr>\n",
    "<tr> <td>11:00</td> <td>'eleven'</td> </tr>\n",
    "<tr> <td>11:01 - 11:19</td> <td>'N past eleven'</td> </tr>\n",
    "<tr> <td>11:20 - 11:29</td> <td>'N to half twelve'</td> </tr>\n",
    "<tr> <td>11:30</td> <td>'half twelve'</td> </tr>\n",
    "<tr> <td>11:31 - 11:40</td> <td>'N past half twelve'</td> </tr>\n",
    "<tr> <td>11:40 - 11:59</td> <td>'N to twelve'</td> </tr>\n",
    "</table>"
   ]
  },
  {
   "cell_type": "code",
   "execution_count": null,
   "metadata": {},
   "outputs": [],
   "source": [
    "print(tr.lookup('22:15')) # TODO"
   ]
  }
 ],
 "metadata": {
  "jupytext": {
   "main_language": "python",
   "text_representation": {
    "extension": ".py",
    "format_name": "light"
   }
  }
 },
 "nbformat": 4,
 "nbformat_minor": 2
}
