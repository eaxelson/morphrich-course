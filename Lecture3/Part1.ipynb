{
 "cells": [
  {
   "cell_type": "markdown",
   "metadata": {},
   "source": [
    "# MORPHOLOGICALLY RICH LANGUAGES WITH HFST TOOLS - LECTURE 3\n",
    "\n",
    "Topics: simple lexc (numerals, dates, clocks)\n",
    "\n",
    "Get acquainted with <a href=\"https://victorio.uit.no/langtech/trunk/langs/olo/src/transcriptions/\">Olonets-Karelian</a>.\n",
    "\n",
    "## Numerals\n",
    "\n",
    "Download transcriptor-numbers-digit2text.lexc (or use a copy available in this directory).\n"
   ]
  },
  {
   "cell_type": "code",
   "execution_count": null,
   "metadata": {},
   "outputs": [],
   "source": [
    "from hfst_dev import compile_lexc_file\n",
    "tr = compile_lexc_file('transcriptor-numbers-digit2text.lexc')"
   ]
  },
  {
   "cell_type": "markdown",
   "metadata": {},
   "source": [
    "test cases"
   ]
  },
  {
   "cell_type": "code",
   "execution_count": null,
   "metadata": {},
   "outputs": [],
   "source": [
    "print(tr.lookup('111'))\n",
    "print(tr.lookup('111.'))\n",
    "print(tr.lookup('345678'))\n",
    "print(tr.lookup('345678.'))"
   ]
  },
  {
   "cell_type": "markdown",
   "metadata": {},
   "source": [
    "Note that Uralic numerals follow a pattern different from e.g. Germanic ones\n",
    "In both language groups, numerals 1-10 must be listed individually.\n",
    "\n",
    "In Uralic (Finnish): 11-19 follow the pattern N + TOISTA (TOISTA: 'of a second')\n",
    "In Germanic (English): 11, 12, 13 separate and 14-19 N + TEEN (but e.g. five -> fifteen)\n",
    "\n",
    "In Uralic: 20-99 follow the pattern N + KYMMENTA (+ M)\n",
    "In Germanic: same pattern but 20, 30 often separate (two -> twenty, three -> thirty || zwei/zwo -> zwanzig || två -> tjugo)\n",
    "\n",
    "Also note that Uralic cardinals use singular partitive instead of (teen/zehn/ton || ty/ig/ti)\n",
    "E.g. kolmesataaneljäkymmentä, 'three of a hundred + four of a ten'\n",
    "\n",
    "Ordinal numbers:\n",
    "In Uralic: ordinality is visible in all parts: 145. -> sada*s*neljä*s*kymmene*s*viide*s*\n",
    "In Germanic: ordinality is visible only in last part: 145. -> hundred fourty-fifth\n",
    "\n",
    "In Uralic: cardinals and ordinals are inflected in case and in number (singular, plural, even dual?)\n",
    "\n",
    "145. sadasneljäskymmenesviides\n",
    "145. in translative: sadanneksineljänneksikymmenenneksiviidenneksi\n",
    "\n",
    "145. in plural: sadannetneljännetkymmenennetviidennet\n",
    "145. in plural translative: sadansiksineljänsiksikymmenensiksiviidensiksi"
   ]
  },
  {
   "cell_type": "markdown",
   "metadata": {},
   "source": [
    "## Dates\n",
    "\n",
    "https://victorio.uit.no/langtech/trunk/langs/olo/src/transcriptions/transcriptor-date-digit2text.lexc\n"
   ]
  },
  {
   "cell_type": "code",
   "execution_count": null,
   "metadata": {},
   "outputs": [],
   "source": [
    "tr = compile_lexc_file('transcriptor-date-digit2text.lexc')\n",
    "print(tr.lookup('1.1.'))"
   ]
  },
  {
   "cell_type": "markdown",
   "metadata": {},
   "source": [
    "## Clocks\n",
    "\n",
    "https://victorio.uit.no/langtech/trunk/langs/olo/src/transcriptions/transcriptor-clock-digit2text.lexc\n"
   ]
  },
  {
   "cell_type": "code",
   "execution_count": null,
   "metadata": {},
   "outputs": [],
   "source": [
    "tr = compile_lexc_file('transcriptor-clock-digit2text.lexc')\n",
    "print(tr.lookup('11:30'))\n",
    "print(tr.lookup('22:15'))"
   ]
  }
 ],
 "metadata": {
  "jupytext": {
   "main_language": "python",
   "text_representation": {
    "extension": ".py",
    "format_name": "light"
   }
  }
 },
 "nbformat": 4,
 "nbformat_minor": 2
}
