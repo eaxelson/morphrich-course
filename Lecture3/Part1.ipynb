{
 "cells": [
  {
   "cell_type": "markdown",
   "metadata": {},
   "source": [
    "# MORPHOLOGICALLY RICH LANGUAGES WITH HFST TOOLS - LECTURE 3\n",
    "\n",
    "## Simple lexc (numerals, dates, clocks)\n",
    "\n",
    "Get acquainted with <a href=\"https://victorio.uit.no/langtech/trunk/langs/olo/src/transcriptions/\">Olonets-Karelian</a>.\n",
    "\n",
    "Download transcriptor-numbers-digit2text.lexc (or use a copy available in this directory).\n"
   ]
  },
  {
   "cell_type": "code",
   "execution_count": null,
   "metadata": {},
   "outputs": [],
   "source": [
    "from hfst_dev import compile_lexc_file\n",
    "tr = compile_lexc_file('transcriptor-numbers-digit2text.lexc')"
   ]
  },
  {
   "cell_type": "markdown",
   "metadata": {},
   "source": [
    "test cases"
   ]
  },
  {
   "cell_type": "code",
   "execution_count": null,
   "metadata": {
    "lines_to_next_cell": 2
   },
   "outputs": [],
   "source": [
    "tr.lookup('111')\n",
    "tr.lookup('111.')\n",
    "tr.lookup('345678')\n",
    "tr.lookup('345678.')"
   ]
  }
 ],
 "metadata": {
  "jupytext": {
   "main_language": "python",
   "text_representation": {
    "extension": ".py",
    "format_name": "light"
   }
  }
 },
 "nbformat": 4,
 "nbformat_minor": 2
}
