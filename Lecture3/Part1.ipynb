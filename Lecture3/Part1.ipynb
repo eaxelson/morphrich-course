{
 "cells": [
  {
   "cell_type": "markdown",
   "metadata": {},
   "source": [
    "# MORPHOLOGICALLY RICH LANGUAGES WITH HFST TOOLS - LECTURE 3\n",
    "\n",
    "Topics: simple lexc (numerals, dates, clocks)\n",
    "\n",
    "<ul>\n",
    "<li>1. <a href=\"#1.-Lexc-formalism\">Lexc formalism</a></li>\n",
    "<li>2. <a href=\"#2.-Numerals\">Numerals</a></li>\n",
    "<li>3. <a href=\"#3.-Dates\">Dates</a></li>\n",
    "<li>4. <a href=\"#4.-Clocks\">Clocks</a></li>\n",
    "</ul>"
   ]
  },
  {
   "cell_type": "markdown",
   "metadata": {},
   "source": [
    "## 1. Lexc formalism\n",
    "\n",
    "A lexc file/script consists of lexicons with one or more entries. The entries can have a continuation\n",
    "lexicon defined. There must be one lexicon named `Root` which is the root lexicon. The entries can be\n",
    "given as strings or regular expressions.\n",
    "\n",
    "Below is a lexc file with a root lexicon with one entry ('cat') that has no continuation lexicon.\n",
    "Keyword `LEXICON` defines a lexicon and `#` after an entry means that the entry has no continuation lexicon."
   ]
  },
  {
   "cell_type": "code",
   "execution_count": null,
   "metadata": {},
   "outputs": [],
   "source": [
    "from hfst_dev import compile_lexc_script\n",
    "tr = compile_lexc_script(\"\"\"\n",
    "LEXICON Root\n",
    "cat # ;\n",
    "\"\"\")\n",
    "print(tr.extract_paths(output='raw'))"
   ]
  },
  {
   "cell_type": "markdown",
   "metadata": {},
   "source": [
    "When we compile the script, we get a transducer that recognizes the string 'cat'."
   ]
  },
  {
   "cell_type": "markdown",
   "metadata": {},
   "source": [
    "We continue with a toy example that uses multicharacter symbols and continuation lexicons.\n",
    "`Multichar_Symbols` defines a set of symbols that are tokenized as single symbols in lexicon entries.\n",
    "A colon `:` separates input and output sides in lexicon entries. A zero `0` represents the epsilon."
   ]
  },
  {
   "cell_type": "code",
   "execution_count": null,
   "metadata": {},
   "outputs": [],
   "source": [
    "tr = compile_lexc_script(\"\"\"\n",
    "Multichar_Symbols\n",
    " +N # Noun\n",
    " +V # Verb\n",
    "\n",
    "LEXICON Root    ! This is a comment\n",
    "cat NOUN ;\n",
    "mew NOUN ;\n",
    "mew VERB ;\n",
    "\n",
    "LEXICON NOUN\n",
    "0:+N END ;\n",
    "\n",
    "LEXICON VERB\n",
    "0:+V END ;\n",
    "\n",
    "! This is another comment\n",
    "LEXICON END\n",
    "# ;\n",
    "\"\"\")\n",
    "print(tr.extract_paths(output='raw'))"
   ]
  },
  {
   "cell_type": "markdown",
   "metadata": {},
   "source": [
    "When we compile the script, we get a transducer that recognizes the following strings:\n",
    "\n",
    "<table>\n",
    "<tr> <th>Input</th> <th>Output</th> </tr>\n",
    "<tr> <td>cat</td> <td>cat+N</td> </tr>\n",
    "<tr> <td>mew</td> <td>mew+N</td> </tr>\n",
    "<tr> <td>mew</td> <td>mew+V</td> </tr>\n",
    "</table>\n",
    "\n",
    "Note that he end lexicon `END` consist of one empty entry with no continuation lexicon."
   ]
  },
  {
   "cell_type": "markdown",
   "metadata": {},
   "source": [
    "We modify the example with regular expressions (regexps) and weights.\n",
    "\n",
    "Regexps are enclosed in angle brackets and follow the <a href=\"https://github.com/hfst/python-hfst-4.0/wiki/PackageHfst#regex-regexp-kwargs\">xfst regexp formalism</a>.\n",
    "Note that many characters in regexps have a special meaning and must be escaped with a per cent sign to be interpreted literally.\n",
    "\n",
    "Weights can be given in regexps (see <a href=\"https://github.com/hfst/python-hfst-4.0/wiki/Weights#using-weights-in-regular-expressions\">weights in xfst regexps</a>)\n",
    "and for individual lexicon entries (`\"weight: WEIGHT\"`)."
   ]
  },
  {
   "cell_type": "code",
   "execution_count": null,
   "metadata": {},
   "outputs": [],
   "source": [
    "tr = compile_lexc_script(\"\"\"\n",
    "Multichar_Symbols\n",
    " +N # Noun\n",
    " +V # Verb\n",
    "\n",
    "LEXICON Root\n",
    "cat NOUN \"weight: 1\" ;    ! Weights given for lexicon entries\n",
    "mew NOUN \"weight: 5.2\" ;\n",
    "mew VERB \"weight: 1.4\" ;\n",
    "\n",
    "LEXICON NOUN\n",
    "<0:%+N::0.5> END ;        ! Weights given inside regexps\n",
    "!  This is the same as:\n",
    "!  0:+N END \"weight: 0.5\" ;\n",
    "\n",
    "LEXICON VERB\n",
    "<0:%+V::0.4> END ;\n",
    "\n",
    "LEXICON END\n",
    "# ;\n",
    "\"\"\")\n",
    "print(tr.extract_paths(output='raw'))"
   ]
  },
  {
   "cell_type": "markdown",
   "metadata": {},
   "source": [
    "When we compile the following script, we get a transducer that recognizes the following strings:\n",
    "\n",
    "<table>\n",
    "<tr> <th>Input</th> <th>Output</th> <th>Weight</th> </tr>\n",
    "<tr> <td>cat</td> <td>cat+N</td> <td>1 + 0.5 = 1.5</td> </tr>\n",
    "<tr> <td>mew</td> <td>mew+N</td> <td>5.2 + 0.5 = 5.7</td> </tr>\n",
    "<tr> <td>mew</td> <td>mew+V</td> <td>1.4 + 0.4 = 1.8</td> </tr>\n",
    "</table>\n",
    "\n",
    "Note how weights are added when we traverse through the lexicons."
   ]
  },
  {
   "cell_type": "markdown",
   "metadata": {},
   "source": [
    "## 2. Numerals\n",
    "\n",
    "Get acquainted with <a href=\"https://victorio.uit.no/langtech/trunk/langs/olo/src/transcriptions/\">Olonets-Karelian</a>.\n",
    "\n",
    "Download <a href=\"https://victorio.uit.no/langtech/trunk/langs/olo/src/transcriptions/transcriptor-numbers-digit2text.lexc\">transcriptor-numbers-digit2text.lexc</a>\n",
    "(or use a copy available in this directory). The file describes how digits are converted into text.\n"
   ]
  },
  {
   "cell_type": "code",
   "execution_count": null,
   "metadata": {},
   "outputs": [],
   "source": [
    "from hfst_dev import compile_lexc_file\n",
    "tr = compile_lexc_file('transcriptor-numbers-digit2text.lexc')"
   ]
  },
  {
   "cell_type": "code",
   "execution_count": null,
   "metadata": {},
   "outputs": [],
   "source": [
    "# test some numerals, both cardinal and ordinal\n",
    "print(tr.lookup('111'))\n",
    "print(tr.lookup('111.'))\n",
    "print(tr.lookup('345678'))\n",
    "print(tr.lookup('345678.'))"
   ]
  },
  {
   "cell_type": "markdown",
   "metadata": {},
   "source": [
    "Note that Uralic numerals follow a pattern different from e.g. Germanic ones.\n",
    "Below are listed numerals 1—99 for Finnish and English:\n",
    "\n",
    "* In both languages, numerals 1—10 must be listed individually.\n",
    "* Numerals 1119:\n",
    "  * In Finnish: 1119 follow the pattern N + TOISTA\n",
    "  * In English: 11, 12, 13 must be listed separately and 14—19 follow the pattern N + TEEN (but e.g. five &#8658; fifteen)\n",
    "* Numerals 20—99:\n",
    "  * In Finnish: the pattern N + KYMMENTÄ (+ M)\n",
    "  * In English: same pattern but 20, 30 separate: two &#8658; twenty, three &#8658; thirty)\n",
    "  * cf. German zwei/zwo &#8658; zwanzig, Swedish två &#8658; tjugo\n",
    "\n",
    "Also note that Finnish cardinals use singular partitive, e.g. 340: kolmesataaneljäkymmentä ('three of a hundred + four of a ten').\n",
    "\n",
    "Ordinal numbers:\n",
    "\n",
    "* In Finnish: ordinality is visible in all parts: 145. &#8658; sada<b>s</b>neljä<b>s</b>kymmene<b>s</b>viide<b>s</b>\n",
    "* In English: ordinality is visible only in last part: 145. &#8658; hundred fourty-fif<b>th</b>\n",
    "\n",
    "In Finnish: cardinals and ordinals are inflected in case and in number (singular, plural). For example for the ordinal 145:\n",
    "\n",
    "* singular nominative: sada<b>s</b>neljä<b>s</b>kymmene<b>s</b>viide<b>s</b>\n",
    "* singular translative: sada<b>nneksi</b>neljä<b>nneksi</b>kymmene<b>nneksi</b>viide<b>nneksi</b>\n",
    "* plural nominative: sada<b>nnet</b>neljä<b>nnet</b>kymmene<b>nnet</b>viide<b>nnet</b>\n",
    "* plural translative: sada<b>nsiksi</b>neljä<b>nsiksi</b>kymmene<b>nsiksi</b>viide<b>nsiksi</b>"
   ]
  },
  {
   "cell_type": "markdown",
   "metadata": {},
   "source": [
    "## 3. Dates\n",
    "\n",
    "Download <a href=\"https://victorio.uit.no/langtech/trunk/langs/olo/src/transcriptions/transcriptor-date-digit2text.lexc\">transcriptor-date-digit2text.lexc</a>\n",
    "(or use a copy available in this directory). The file describes how dates are converted into text.\n",
    "\n",
    "Ordinals and month names are both needed. Since there are only 31 ordinals, they can be listed individually."
   ]
  },
  {
   "cell_type": "code",
   "execution_count": null,
   "metadata": {},
   "outputs": [],
   "source": [
    "tr = compile_lexc_file('transcriptor-date-digit2text.lexc')\n",
    "print(tr.lookup('1.1.'))"
   ]
  },
  {
   "cell_type": "markdown",
   "metadata": {},
   "source": [
    "Result is (('enzimäine päivy pakkaskuudu', 0.0), ('Pakkaskuun+Use/NG enzimäine päivy', 0.0), ('pakkaskuun+Use/NG enzimäine päivy', 0.0))\n",
    "\n",
    "Date can be expressed with:\n",
    "\n",
    "* partitive: 'enzimäine päivy pakkaskuudu' (\"first day of pakkaskuu\")\n",
    "* genitive: 'pakkaskuun enzimäine päivy' (\"pakkaskuu's first day\")."
   ]
  },
  {
   "cell_type": "markdown",
   "metadata": {},
   "source": [
    "Print all names of months"
   ]
  },
  {
   "cell_type": "code",
   "execution_count": null,
   "metadata": {},
   "outputs": [],
   "source": [
    "for month in range(1,13):\n",
    "    # use first day of month\n",
    "    res = tr.lookup('1.' + str(month) + '.')\n",
    "    # use first result, ignore weight and perform some simple replaces to get the name of the month\n",
    "    print(res[0][0].replace('enzimäine päivy ','').replace('du',''))"
   ]
  },
  {
   "cell_type": "markdown",
   "metadata": {},
   "source": [
    "Result: pakkaskuu, tuhukuu, kevätkuu, sulakuu, oraskuu, kezäkuu, heinykuu, elokuu, syvyskuu, ligakuu, kylmykuu, talvikuu\n",
    "\n",
    "* cf. Finnish: tammikuu, helmikuu, maaliskuu, huhtikuu, toukokuu, kesäkuu, heinäkuu, elokuu, syyskuu, lokakuu, marraskuu, joulukuu\n",
    "* cf. Estonian: jaanuar, veebruar, märts, aprill, mai, juuni, juuli, august, september, oktoober, november, detsember\n",
    "* cf. English: January, February, March, April, May, June, July, August, September, October, November, December"
   ]
  },
  {
   "cell_type": "markdown",
   "metadata": {},
   "source": [
    "## 4. Clocks\n",
    "\n",
    "Download <a href=\"https://victorio.uit.no/langtech/trunk/langs/olo/src/transcriptions/transcriptor-clock-digit2text.lexc\">transcriptor-clock-digit2text.lexc</a>\n",
    "(or use a copy available in this directory). The file describes how clocks are converted into text.\n",
    "\n",
    "Print all clocks between 11:00 and 11:59."
   ]
  },
  {
   "cell_type": "code",
   "execution_count": null,
   "metadata": {},
   "outputs": [],
   "source": [
    "tr = compile_lexc_file('transcriptor-clock-digit2text.lexc')\n",
    "hour = '11'\n",
    "for minutes in range(0,60):\n",
    "    minutes = str(minutes)\n",
    "    # add missing zero to numbers 1-9\n",
    "    if len(minutes) == 1:\n",
    "        minutes = '0' + minutes\n",
    "    clock = hour + ':' + minutes\n",
    "    print(clock + '\\t' + str(tr.lookup(clock)))"
   ]
  },
  {
   "cell_type": "markdown",
   "metadata": {},
   "source": [
    "The pattern is:\n",
    "\n",
    "<table>\n",
    "<tr> <th>Clock</th> <th>Translation</th> </tr>\n",
    "<tr> <td>11:00</td> <td>'eleven'</td> </tr>\n",
    "<tr> <td>11:01—11:29</td> <td>'N minutes of twelfth'</td> </tr>\n",
    "<tr> <td>11:30</td> <td>'half twelve'</td> </tr>\n",
    "<tr> <td>11:31—11:59</td> <td>'N minutes short of twelfth'</td> </tr>\n",
    "</table>"
   ]
  },
  {
   "cell_type": "markdown",
   "metadata": {},
   "source": [
    "Also try clocks after noon:"
   ]
  },
  {
   "cell_type": "code",
   "execution_count": null,
   "metadata": {},
   "outputs": [],
   "source": [
    "print(tr.lookup('22:15'))\n",
    "print(tr.lookup('10:15'))"
   ]
  },
  {
   "cell_type": "code",
   "execution_count": null,
   "metadata": {},
   "outputs": [],
   "source": [
    "for clocks in (('00:00','12:00'),('00:30','12:30'),('11:59','23:59'),('05:32','17:32'),('02:11','14:11')):\n",
    "    assert(tr.lookup(clocks[0]) == tr.lookup(clocks[1]))"
   ]
  }
 ],
 "metadata": {
  "jupytext": {
   "main_language": "python",
   "text_representation": {
    "extension": ".py",
    "format_name": "light"
   }
  }
 },
 "nbformat": 4,
 "nbformat_minor": 2
}
