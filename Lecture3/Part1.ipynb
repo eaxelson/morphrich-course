{
 "cells": [
  {
   "cell_type": "markdown",
   "metadata": {},
   "source": [
    "# MORPHOLOGICALLY RICH LANGUAGES WITH HFST TOOLS - LECTURE 3\n",
    "\n",
    "Topics: simple lexc (numerals, dates, clocks)\n",
    "\n",
    "Get acquainted with <a href=\"https://victorio.uit.no/langtech/trunk/langs/olo/src/transcriptions/\">Olonets-Karelian</a>.\n",
    "\n",
    "<ul>\n",
    "<li>1. <a href=\"#1.-Numerals\">Numerals</a></li>\n",
    "<li>2. <a href=\"#2.-Dates\">Dates</a></li>\n",
    "<li>3. <a href=\"#3.-Clocks\">Clocks</a></li>\n",
    "</ul>"
   ]
  },
  {
   "cell_type": "markdown",
   "metadata": {},
   "source": [
    "## 1. Numerals\n",
    "\n",
    "Download <a href=\"https://victorio.uit.no/langtech/trunk/langs/olo/src/transcriptions/transcriptor-numbers-digit2text.lexc\">transcriptor-numbers-digit2text.lexc</a>\n",
    "(or use a copy available in this directory).\n"
   ]
  },
  {
   "cell_type": "code",
   "execution_count": null,
   "metadata": {},
   "outputs": [],
   "source": [
    "from hfst_dev import compile_lexc_file\n",
    "tr = compile_lexc_file('transcriptor-numbers-digit2text.lexc')"
   ]
  },
  {
   "cell_type": "code",
   "execution_count": null,
   "metadata": {},
   "outputs": [],
   "source": [
    "# test some numerals\n",
    "print(tr.lookup('111'))\n",
    "print(tr.lookup('111.'))\n",
    "print(tr.lookup('345678'))\n",
    "print(tr.lookup('345678.'))"
   ]
  },
  {
   "cell_type": "markdown",
   "metadata": {},
   "source": [
    "Note that Uralic numerals follow a pattern different from e.g. Germanic ones\n",
    "In both language groups, numerals 1-10 must be listed individually.\n",
    "\n",
    "In Uralic (Finnish): 11-19 follow the pattern N + TOISTA (TOISTA: 'of a second')\n",
    "In Germanic (English): 11, 12, 13 separate and 14-19 N + TEEN (but e.g. five -> fifteen)\n",
    "\n",
    "In Uralic: 20-99 follow the pattern N + KYMMENTA (+ M)\n",
    "In Germanic: same pattern but 20, 30 often separate (two -> twenty, three -> thirty || zwei/zwo -> zwanzig || två -> tjugo)\n",
    "\n",
    "Also note that Uralic cardinals use singular partitive instead of (teen/zehn/ton || ty/ig/ti)\n",
    "E.g. kolmesataaneljäkymmentä, 'three of a hundred + four of a ten'\n",
    "\n",
    "Ordinal numbers:\n",
    "In Uralic: ordinality is visible in all parts: 145. -> sada*s*neljä*s*kymmene*s*viide*s*\n",
    "In Germanic: ordinality is visible only in last part: 145. -> hundred fourty-fifth\n",
    "\n",
    "In Uralic: cardinals and ordinals are inflected in case and in number (singular, plural, even dual?). For example for the ordinal 145:\n",
    "\n",
    "* singular nominative: sadasneljäskymmenesviides\n",
    "* singular translative: sadanneksineljänneksikymmenenneksiviidenneksi\n",
    "* plural nominative: sadannetneljännetkymmenennetviidennet\n",
    "* plural translative: sadansiksineljänsiksikymmenensiksiviidensiksi"
   ]
  },
  {
   "cell_type": "markdown",
   "metadata": {},
   "source": [
    "## 2. Dates\n",
    "\n",
    "Download <a href=\"https://victorio.uit.no/langtech/trunk/langs/olo/src/transcriptions/transcriptor-date-digit2text.lexc\">transcriptor-date-digit2text.lexc</a>\n",
    "(or use a copy available in this directory).\n"
   ]
  },
  {
   "cell_type": "code",
   "execution_count": null,
   "metadata": {},
   "outputs": [],
   "source": [
    "tr = compile_lexc_file('transcriptor-date-digit2text.lexc')\n",
    "print(tr.lookup('1.1.'))"
   ]
  },
  {
   "cell_type": "markdown",
   "metadata": {},
   "source": [
    "## 3. Clocks\n",
    "\n",
    "Download <a href=\"https://victorio.uit.no/langtech/trunk/langs/olo/src/transcriptions/transcriptor-clock-digit2text.lexc\">transcriptor-clock-digit2text.lexc</a>\n",
    "(or use a copy available in this directory).\n"
   ]
  },
  {
   "cell_type": "code",
   "execution_count": null,
   "metadata": {},
   "outputs": [],
   "source": [
    "tr = compile_lexc_file('transcriptor-clock-digit2text.lexc')\n",
    "print(tr.lookup('11:30'))\n",
    "print(tr.lookup('22:15')) # TODO"
   ]
  }
 ],
 "metadata": {
  "jupytext": {
   "main_language": "python",
   "text_representation": {
    "extension": ".py",
    "format_name": "light"
   }
  }
 },
 "nbformat": 4,
 "nbformat_minor": 2
}
