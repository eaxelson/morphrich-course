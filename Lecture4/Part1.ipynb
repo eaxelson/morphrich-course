{
 "cells": [
  {
   "cell_type": "markdown",
   "metadata": {},
   "source": [
    "# MORPHOLOGICALLY RICH LANGUAGES WITH HFST TOOLS - LECTURE 4\n",
    "\n",
    "Topics:\n",
    "\n",
    "* lexc: practices and automated documentation\n",
    "* production and reuse of test materials for development of analysers/generators\n",
    "\n",
    "https://victorio.uit.no/langtech/trunk/langs/olo/test/src/gt-norm-yamls/N-kala_gt-norm.yaml"
   ]
  },
  {
   "cell_type": "markdown",
   "metadata": {},
   "source": [
    "First the configuration:\n",
    "\n",
    "```\n",
    "\n",
    "Config:\n",
    "  hfst:\n",
    "    Gen: ../../../src/generator-gt-norm.hfst\n",
    "    Morph: ../../../src/analyser-gt-norm.hfst\n",
    "  xerox:\n",
    "    Gen: ../../../src/generator-gt-norm.xfst\n",
    "    Morph: ../../../src/analyser-gt-norm.xfst\n",
    "    App: lookup\n",
    "\n",
    "# ```"
   ]
  },
  {
   "cell_type": "markdown",
   "metadata": {},
   "source": [
    "Then the tests (singular/plural * case * clitics):\n",
    "\n",
    "```\n",
    "Tests:\n",
    "\n",
    "# todo:\n",
    "# Proofread the gold standard (below)\n",
    "# Then: run analyser, then correct.\n",
    "\n",
    "\n",
    "  Noun - kala: # Noun 'fish / kala' - full paradigm\n",
    "     kala+N+Sg+Nom: kala\n",
    "     kala+N+Sg+Gen: kalan\n",
    "     kala+N+Sg+Acc: [kala, kalan]\n",
    "     kala+N+Sg+Par: kalua\n",
    "     kala+N+Sg+Tra: kalakse\n",
    "     kala+N+Sg+Abe: [kalata, kalattah]\n",
    "     kala+N+Sg+Com: kalanke\n",
    "     kala+N+Sg+Ine: kalas\n",
    "     kala+N+Sg+Ela: [kalaspäi, kalas]\n",
    "     kala+N+Sg+Ill: kalah\n",
    "     kala+N+Sg+Ade: kalal\n",
    "     kala+N+Sg+Abl: [kalalpäi, kalal]\n",
    "     kala+N+Sg+All: kalale\n",
    "     kala+N+Sg+Ess: kalannu\n",
    "     kala+N+Sg+Ter: kalassah\n",
    "     kala+N+Sg+Apr: kalalluo\n",
    "```"
   ]
  },
  {
   "cell_type": "markdown",
   "metadata": {},
   "source": [
    "The same in plural:\n",
    "\n",
    "```\n",
    "     kala+N+Pl+Nom: kalat\n",
    "     kala+N+Pl+Gen: kalojen\n",
    "     kala+N+Pl+Acc: kalat\n",
    "     kala+N+Pl+Par: kaloi\n",
    "     kala+N+Pl+Tra: kaloikse\n",
    "     kala+N+Pl+Abe: [kaloita, kaloittah]\n",
    "     kala+N+Pl+Com: kalojenke\n",
    "     kala+N+Pl+Ine: kalois\n",
    "     kala+N+Pl+Ela: [kaloispäi, kalois]\n",
    "     kala+N+Pl+Ill: kaloih\n",
    "     kala+N+Pl+Ade: kaloil\n",
    "     kala+N+Pl+Abl: [kaloilpäi, kaloil]\n",
    "     kala+N+Pl+All: kaloile\n",
    "     kala+N+Pl+Ess: kaloinnu\n",
    "     kala+N+Pl+Ins: kaloin\n",
    "     kala+N+Pl+Apr: kalojelluo\n",
    "```"
   ]
  },
  {
   "cell_type": "markdown",
   "metadata": {},
   "source": [
    "The same with clitic gi:\n",
    "\n",
    "```\n",
    "     kala+N+Sg+Nom+Clt/gi: kalagi\n",
    "     kala+N+Sg+Gen+Clt/gi: kalangi\n",
    "     kala+N+Sg+Acc+Clt/gi: [kalagi, kalangi]\n",
    "     kala+N+Sg+Par+Clt/gi: kaluagi\n",
    "     kala+N+Sg+Tra+Clt/gi: kalaksegi\n",
    "     kala+N+Sg+Abe+Clt/gi: [kalatagi, kalattahgi]\n",
    "     kala+N+Sg+Com+Clt/gi: kalankegi\n",
    "     kala+N+Sg+Ine+Clt/gi: kalasgi\n",
    "     kala+N+Sg+Ela+Clt/gi: [kalaspäigi, kalasgi]\n",
    "     kala+N+Sg+Ill+Clt/gi: kalahgi\n",
    "     kala+N+Sg+Ade+Clt/gi: kalalgi\n",
    "     kala+N+Sg+Abl+Clt/gi: [kalalpäigi, kalalgi]\n",
    "     kala+N+Sg+All+Clt/gi: kalalegi\n",
    "     kala+N+Sg+Ess+Clt/gi: kalannugi\n",
    "     kala+N+Sg+Ter+Clt/gi: kalassahgi\n",
    "     kala+N+Sg+Apr+Clt/gi: kalalluogi\n",
    "     kala+N+Pl+Nom+Clt/gi: kalatgi\n",
    "     kala+N+Pl+Gen+Clt/gi: kalojengi\n",
    "     kala+N+Pl+Acc+Clt/gi: kalatgi\n",
    "     kala+N+Pl+Par+Clt/gi: kaloigi\n",
    "     kala+N+Pl+Tra+Clt/gi: kaloiksegi\n",
    "     kala+N+Pl+Abe+Clt/gi: [kaloitagi, kaloittahgi]\n",
    "     kala+N+Pl+Com+Clt/gi: kalojenkegi\n",
    "     kala+N+Pl+Ine+Clt/gi: kaloisgi\n",
    "     kala+N+Pl+Ela+Clt/gi: [kaloispäigi, kaloisgi]\n",
    "     kala+N+Pl+Ill+Clt/gi: kaloihgi\n",
    "     kala+N+Pl+Ade+Clt/gi: kaloilgi\n",
    "     kala+N+Pl+Abl+Clt/gi: [kaloilpäigi, kaloilgi]\n",
    "     kala+N+Pl+All+Clt/gi: kaloilegi\n",
    "     kala+N+Pl+Ess+Clt/gi: kaloinnugi\n",
    "     kala+N+Pl+Ins+Clt/gi: kaloingi\n",
    "     kala+N+Pl+Apr+Clt/gi: kalojelluogi\n",
    "```"
   ]
  },
  {
   "cell_type": "markdown",
   "metadata": {},
   "source": [
    "If there are hundreds or thousands of forms, best to list them alphabetically..."
   ]
  }
 ],
 "metadata": {
  "jupytext": {
   "main_language": "python",
   "text_representation": {
    "extension": ".py",
    "format_name": "light"
   }
  }
 },
 "nbformat": 4,
 "nbformat_minor": 2
}
