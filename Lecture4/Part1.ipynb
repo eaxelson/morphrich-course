{
 "cells": [
  {
   "cell_type": "markdown",
   "metadata": {},
   "source": [
    "# MORPHOLOGICALLY RICH LANGUAGES WITH HFST TOOLS - LECTURE 4\n",
    "\n",
    "Topics: writing test material, applying simple concatenative morphology\n",
    "\n",
    "<ul>\n",
    "<li>1. <a href=\"#1.-Test-material\">Test material</a></li>\n",
    "<li>2. <a href=\"#2.-Olonets-Karelian-Nouns\">Olonets Karelian Nouns</a></li>\n",
    "</ul>\n"
   ]
  },
  {
   "cell_type": "markdown",
   "metadata": {},
   "source": [
    "## 1. Test material\n",
    "\n",
    "Have a look at the <a href=\"https://en.wikipedia.org/wiki/YAML\">yaml</a>\n",
    "file for Olonets Karelian noun kala, 'fish' (<i>N-kala_gt-norm.yaml</i>).\n",
    "Download it from\n",
    "<a href=\"https://victorio.uit.no/langtech/trunk/langs/olo/test/src/gt-norm-yamls/N-kala_gt-norm.yaml\">Giella repo</a>\n",
    "or use a copy available in this directory. We'll go through the contents of the file."
   ]
  },
  {
   "cell_type": "markdown",
   "metadata": {},
   "source": [
    "First there is the configuration that defines the analysis and generation transducers\n",
    "for hfst and xfst tools (we'll get back to this later).\n",
    "\n",
    "```\n",
    "\n",
    "Config:\n",
    "  hfst:\n",
    "    Gen: ../../../src/generator-gt-norm.hfst\n",
    "    Morph: ../../../src/analyser-gt-norm.hfst\n",
    "  xerox:\n",
    "    Gen: ../../../src/generator-gt-norm.xfst\n",
    "    Morph: ../../../src/analyser-gt-norm.xfst\n",
    "    App: lookup\n",
    "\n",
    "```"
   ]
  },
  {
   "cell_type": "markdown",
   "metadata": {},
   "source": [
    "Then there are the tests that define a full paradigm for the given test word,\n",
    "in this case 'kala' ('fish'). A yaml test file lists several pairs of input and\n",
    "output strings that must all be found in the transducer.\n",
    "The input and output strings are separated by a colon followed by a whitespace `: `.\n",
    "There can be several output strings for one input string.\n",
    "They are given inside square brackets and separated by commas.\n",
    "\n",
    "(When there is more than one form, the practice in the GIELLA infrastructure\n",
    "is to place the normative/preferred form first. Hence, the Fish+N+Sg+Abe form “kalata”\n",
    "is prefered over the form “kalatah”. This, of course, is not always the case,\n",
    "for example the school may also have an influence on terminology,\n",
    "i.e. Fish+N+Sg+Acc is realised as what the Finnish school would call\n",
    "a genitive singular and nominative singular. [kalan, kala], respectively)\n",
    "\n",
    "Since we are dealing with a morphological generator,\n",
    "the analysis is on the left side and the generated word form on the right side.\n",
    "For each analysis, we list the possible generated forms. E.g. for singular abessive\n",
    "('without a/the fish'), we have two possible forms: 'kalata' and 'kalattah'.\n",
    "\n",
    "\n",
    "```\n",
    "Tests:\n",
    "\n",
    "# todo:\n",
    "# Proofread the gold standard (below)\n",
    "# Then: run analyser, then correct.\n",
    "\n",
    "\n",
    "  Noun - kala: # Noun 'fish / kala' - full paradigm\n",
    "     kala+N+Sg+Nom: kala\n",
    "     kala+N+Sg+Gen: kalan\n",
    "     kala+N+Sg+Acc: [kala, kalan]\n",
    "     kala+N+Sg+Par: kalua\n",
    "     kala+N+Sg+Tra: kalakse\n",
    "     kala+N+Sg+Abe: [kalata, kalattah]\n",
    "     kala+N+Sg+Com: kalanke\n",
    "     kala+N+Sg+Ine: kalas\n",
    "     kala+N+Sg+Ela: [kalaspäi, kalas]\n",
    "     kala+N+Sg+Ill: kalah\n",
    "     kala+N+Sg+Ade: kalal\n",
    "     kala+N+Sg+Abl: [kalalpäi, kalal]\n",
    "     kala+N+Sg+All: kalale\n",
    "     kala+N+Sg+Ess: kalannu\n",
    "     kala+N+Sg+Ter: kalassah\n",
    "     kala+N+Sg+Apr: kalalluo\n",
    "```"
   ]
  },
  {
   "cell_type": "markdown",
   "metadata": {},
   "source": [
    "The same in plural:\n",
    "\n",
    "```\n",
    "     kala+N+Pl+Nom: kalat\n",
    "     kala+N+Pl+Gen: kalojen\n",
    "     kala+N+Pl+Acc: kalat\n",
    "     kala+N+Pl+Par: kaloi\n",
    "     kala+N+Pl+Tra: kaloikse\n",
    "     kala+N+Pl+Abe: [kaloita, kaloittah]\n",
    "     kala+N+Pl+Com: kalojenke\n",
    "     kala+N+Pl+Ine: kalois\n",
    "     kala+N+Pl+Ela: [kaloispäi, kalois]\n",
    "     kala+N+Pl+Ill: kaloih\n",
    "     kala+N+Pl+Ade: kaloil\n",
    "     kala+N+Pl+Abl: [kaloilpäi, kaloil]\n",
    "     kala+N+Pl+All: kaloile\n",
    "     kala+N+Pl+Ess: kaloinnu\n",
    "     kala+N+Pl+Ins: kaloin\n",
    "     kala+N+Pl+Apr: kalojelluo\n",
    "```"
   ]
  },
  {
   "cell_type": "markdown",
   "metadata": {},
   "source": [
    "The same with clitic gi:\n",
    "\n",
    "```\n",
    "     kala+N+Sg+Nom+Clt/gi: kalagi\n",
    "     kala+N+Sg+Gen+Clt/gi: kalangi\n",
    "     kala+N+Sg+Acc+Clt/gi: [kalagi, kalangi]\n",
    "     kala+N+Sg+Par+Clt/gi: kaluagi\n",
    "     kala+N+Sg+Tra+Clt/gi: kalaksegi\n",
    "     kala+N+Sg+Abe+Clt/gi: [kalatagi, kalattahgi]\n",
    "     kala+N+Sg+Com+Clt/gi: kalankegi\n",
    "     kala+N+Sg+Ine+Clt/gi: kalasgi\n",
    "     kala+N+Sg+Ela+Clt/gi: [kalaspäigi, kalasgi]\n",
    "     kala+N+Sg+Ill+Clt/gi: kalahgi\n",
    "     kala+N+Sg+Ade+Clt/gi: kalalgi\n",
    "     kala+N+Sg+Abl+Clt/gi: [kalalpäigi, kalalgi]\n",
    "     kala+N+Sg+All+Clt/gi: kalalegi\n",
    "     kala+N+Sg+Ess+Clt/gi: kalannugi\n",
    "     kala+N+Sg+Ter+Clt/gi: kalassahgi\n",
    "     kala+N+Sg+Apr+Clt/gi: kalalluogi\n",
    "     kala+N+Pl+Nom+Clt/gi: kalatgi\n",
    "     kala+N+Pl+Gen+Clt/gi: kalojengi\n",
    "     kala+N+Pl+Acc+Clt/gi: kalatgi\n",
    "     kala+N+Pl+Par+Clt/gi: kaloigi\n",
    "     kala+N+Pl+Tra+Clt/gi: kaloiksegi\n",
    "     kala+N+Pl+Abe+Clt/gi: [kaloitagi, kaloittahgi]\n",
    "     kala+N+Pl+Com+Clt/gi: kalojenkegi\n",
    "     kala+N+Pl+Ine+Clt/gi: kaloisgi\n",
    "     kala+N+Pl+Ela+Clt/gi: [kaloispäigi, kaloisgi]\n",
    "     kala+N+Pl+Ill+Clt/gi: kaloihgi\n",
    "     kala+N+Pl+Ade+Clt/gi: kaloilgi\n",
    "     kala+N+Pl+Abl+Clt/gi: [kaloilpäigi, kaloilgi]\n",
    "     kala+N+Pl+All+Clt/gi: kaloilegi\n",
    "     kala+N+Pl+Ess+Clt/gi: kaloinnugi\n",
    "     kala+N+Pl+Ins+Clt/gi: kaloingi\n",
    "     kala+N+Pl+Apr+Clt/gi: kalojelluogi\n",
    "```"
   ]
  },
  {
   "cell_type": "markdown",
   "metadata": {
    "lines_to_next_cell": 2
   },
   "source": [
    "If there are hundreds or thousands of forms, it may be best to list them alphabetically.\n",
    "See <a href=\"https://victorio.uit.no/langtech/trunk/langs/olo/test/src/gt-norm-yamls/V-suvaija_gt-norm.yaml\">verb inflection</a>.\n",
    "There are 141 forms listed in the test file but there are even more forms."
   ]
  },
  {
   "cell_type": "markdown",
   "metadata": {},
   "source": [
    "Compare e.g. with <a href=\"https://victorio.uit.no/langtech/trunk/langs/nds/test/src/gt-norm-yamls/V-waien_gt-norm.yaml\">Low German verb inflection</a>:\n",
    "\n",
    "```\n",
    "  Verb - waien: # Verb 'to blow (of wind)' - full paradigm\n",
    "     waien+V+Ind+Prs+Sg1: waie\n",
    "     waien+V+Ind+Prs+Sg2: waist\n",
    "     waien+V+Ind+Prs+Sg3: wait\n",
    "     waien+V+Ind+Prs+Pl: [waiet, waien]\n",
    "\n",
    "     waien+V+Ind+Prt+Sg1: waide\n",
    "     waien+V+Ind+Prt+Sg2: waidest\n",
    "     waien+V+Ind+Prt+Sg3: waide\n",
    "     waien+V+Ind+Prt+Pl: waiden\n",
    "\n",
    "     waien+V+Inf:  waien\n",
    "     waien+V+PrfPrc:  waid\n",
    "     waien+V+PrsPrc:  waien\n",
    "\n",
    "     waien+V+Imprt+Sg2:  wai\n",
    "     waien+V+Imprt+Pl2:  waiet\n",
    "```"
   ]
  },
  {
   "cell_type": "markdown",
   "metadata": {},
   "source": [
    "We will use the Olonets Karelian test file in the next lecture to test a morphological generator introduced below."
   ]
  },
  {
   "cell_type": "markdown",
   "metadata": {},
   "source": [
    "## 2. Olonets Karelian Nouns\n",
    "\n",
    "Have a look at some Olonets Karelian lexc files in Giella repo:\n",
    "\n",
    "* <a href=\"https://victorio.uit.no/langtech/trunk/langs/olo/src/morphology/root.lexc\">root.lexc</a>\n",
    "* <a href=\"https://victorio.uit.no/langtech/trunk/langs/olo/src/morphology/stems/nouns.lexc\">stems/nouns.lexc</a>\n",
    "* <a href=\"https://victorio.uit.no/langtech/trunk/langs/olo/src/morphology/affixes/nouns.lexc\">affixes/nouns.lexc</a>\n",
    "* <a href=\"https://victorio.uit.no/langtech/trunk/langs/olo/src/morphology/affixes/clitics.lexc\">affixes/clitics.lexc</a>\n",
    "\n",
    "or use a copies available in this directory. We will use a simplified test case where stems/nouns.lexc will be\n",
    "replaced with a single-stem file <i>kala.lexc</i>, so <i>nouns.lexc</i> will contain affixes/nouns.lexc."
   ]
  },
  {
   "cell_type": "markdown",
   "metadata": {},
   "source": [
    "Multicharacter symbols and root and end lexica are listed in file <i>root.lexc</i>.\n",
    "\n",
    "The root lexicon:\n",
    "\n",
    "```\n",
    "!! !!!Lexicon Root\n",
    "\n",
    "LEXICON Root\n",
    "\n",
    "   adjectives  ;     !!= * @CODE@\n",
    "   adpositions    ;  !!= * @CODE@\n",
    "   adverbs  ;     !!= * @CODE@\n",
    "   conjunctors  ;    !!= * @CODE@\n",
    "   determiners  ;    !!= * @CODE@\n",
    "   interjections  ;  !!= * @CODE@\n",
    "   nouns   ;     !!= * @CODE@\n",
    "   pronouns    ;     !!= * @CODE@\n",
    "   propernouns    ;  !!= * @CODE@\n",
    "   propernouns-toponyms    ;  !!= * @CODE@\n",
    "   quantifiers    ;  !!= * @CODE@\n",
    "   verbs  ;     !!= * @CODE@\n",
    "   rus-Cyrl-2-Lat-ProperNouns ;  !!= * @CODE@ Derived from urj-Cyrl\n",
    "```\n",
    "\n",
    "and the end lexicon:\n",
    "\n",
    "```\n",
    "LEXICON WORD-END\n",
    "# ;\n",
    "```"
   ]
  },
  {
   "cell_type": "markdown",
   "metadata": {},
   "source": [
    "We will use a simplified one-stem version of stems/nouns.lexc named <i>kala.lexc</i>.\n",
    "\n",
    "```\n",
    "LEXICON nouns\n",
    "kala+N:kala N_KALA ;\n",
    "```"
   ]
  },
  {
   "cell_type": "markdown",
   "metadata": {},
   "source": [
    "We can use the affix file <i>affixes/nouns.lexc</i> as such\n",
    "(no need to rename it since stems/nouns.lexc will not be used).\n",
    "The most important parts are:\n",
    "\n",
    "```\n",
    "LEXICON N_KALA !!= @CODE@ kala:kala\n",
    "!! Gradation NA\n",
    "!! Harmony: Back\n",
    "!! stem final a changes to u in Sg Par\n",
    "!! stem final a changes to o before i in Pl stem\n",
    ": ATTESTED-NOUN-STEM ;\n",
    "        N_KALA-SG  ;\n",
    "        N_KALA-PL  ;\n",
    "LEXICON N_KALA-SG\n",
    ":%{back%} NMN_KALA ;\n",
    "LEXICON N_KALA-PL\n",
    ":%{back%} NMN_KALA-PL ;\n",
    "LEXICON N-HUM_KALA\n",
    "+Sem/Hum: NMN_KALA ;\n",
    "```\n",
    "\n",
    "and the continuation lexica (N_KALA-SG, N_KALA-PL, NMN_KALA, NMN_KALA-PL, N-HUM_KALA).\n",
    "Note e.g.:\n",
    "\n",
    "``` \n",
    "LEXICON NMN_KALA-PL\n",
    " PLNOMSUF-USUALLY-WEAK ;\n",
    " :%^A2O%>j PL-GEN/COM/APRSUF_EN ;\n",
    " :%^A2O%>i PLPARSUF_Zero ;\n",
    " :%^A2O%>i PLINSSUF ;\n",
    " +Pl:%^A2O%>i OBLIQUE-CASES-NOT-GENITIVE-DERIVATIVES ;\n",
    "```"
   ]
  },
  {
   "cell_type": "markdown",
   "metadata": {},
   "source": [
    "The clitics file <i>clitics.lexc</i> (WORD-END is defined in file root.lexc):\n",
    "\n",
    "```\n",
    "!! Clitics\n",
    "!  --------------------\n",
    "!! Livvi clitics\n",
    "\n",
    "LEXICON K\n",
    "+Clt/gi:%>gi WORD-END \"also / -kin\" ;\n",
    "!+Clt/hAi:%>h%{aä%}i WORD-END \" / -hAn\" ;\n",
    "+Clt/hAi:%>häi WORD-END \" / -hAn\" ;\n",
    "+Clt/bo:%>bo WORD-END \" / -pA\" ;\n",
    "+Qst:%>go WORD-END \" / -kO\" ;\n",
    "WORD-END ; \n",
    "\n",
    "```"
   ]
  },
  {
   "cell_type": "code",
   "execution_count": null,
   "metadata": {},
   "outputs": [],
   "source": [
    "# First, compile the lexc files:\n",
    "from hfst_dev import compile_lexc_files, HfstTransducer\n",
    "kala = compile_lexc_files(('root.lexc','kala.lexc','nouns.lexc','clitics.lexc'))\n",
    "print(kala.lookup('kala+N+Pl+Ade'))"
   ]
  },
  {
   "cell_type": "markdown",
   "metadata": {},
   "source": [
    "Without the rules, the result is `kala{back}^A2O>i>l`.\n",
    "\n",
    "Simple concatenative morphology is not enough, but we also need phonological rules\n",
    "to handle stem vowel change (i.e. `^A2O`) and get the correct result `kaloil`.\n",
    "We will get back to them in the next lecture."
   ]
  },
  {
   "cell_type": "markdown",
   "metadata": {},
   "source": [
    "Let's try another word.\n",
    "Have a look at the <a href=\"https://en.wikipedia.org/wiki/YAML\">yaml</a>\n",
    "file for Olonets Karelian noun koivu, 'birch' (<i>N-koivu_gt-norm.yaml</i>).\n",
    "Download it from\n",
    "<a href=\"https://victorio.uit.no/langtech/trunk/langs/olo/test/src/gt-norm-yamls/N-koivu_gt-norm.yaml\">Giella repo</a>\n",
    "or use a copy available in this directory.\n",
    "\n",
    "We will use a simplified one-stem version of stems/nouns.lexc named <i>koivu.lexc</i>.\n",
    "\n",
    "```\n",
    "LEXICON nouns\n",
    "koivu+N:koivu N_KOIVU ;\n",
    "```"
   ]
  },
  {
   "cell_type": "code",
   "execution_count": null,
   "metadata": {},
   "outputs": [],
   "source": [
    "# Compile the lexc files:\n",
    "koivu = compile_lexc_files(('root.lexc','koivu.lexc','nouns.lexc','clitics.lexc'))\n",
    "print(koivu.lookup('koivu+N+Pl+Ade'))"
   ]
  },
  {
   "cell_type": "markdown",
   "metadata": {},
   "source": [
    "Without the rules, the result is `koivu{back}>l{oö}i>l`.\n",
    "\n",
    "Simple concatenative morphology is not enough in this case either.\n",
    "Phonological rules are needed to handle wovel harmony (i.e. `{oö}`) and get the correct result `koivuloil`."
   ]
  }
 ],
 "metadata": {
  "jupytext": {
   "main_language": "python",
   "text_representation": {
    "extension": ".py",
    "format_name": "light"
   }
  }
 },
 "nbformat": 4,
 "nbformat_minor": 2
}
