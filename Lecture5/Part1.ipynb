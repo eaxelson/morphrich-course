{
 "cells": [
  {
   "cell_type": "markdown",
   "metadata": {},
   "source": [
    "# MORPHOLOGICALLY RICH LANGUAGES WITH HFST TOOLS - LECTURE 5\n",
    "\n",
    "Topics:\n",
    "\n",
    "* Twolc & xfst rewrite rules\n",
    "\n",
    "<ul>\n",
    "<li>1. <a href=\"#\"></a></li>\n",
    "</ul>\n",
    "\n",
    "Have a look at some Olonetsian Karelian lexc/twolc files in Giella repo:\n",
    "\n",
    "* <a href=\"https://victorio.uit.no/langtech/trunk/langs/olo/src/morphology/stems/nouns.lexc\">stems/nouns.lexc</a>\n",
    "* <a href=\"https://victorio.uit.no/langtech/trunk/langs/olo/src/morphology/affixes/nouns.lexc\">affixes/nouns.lexc</a>\n",
    "* <a href=\"https://victorio.uit.no/langtech/trunk/langs/olo/src/morphology/affixes/clitics.lexc\">affixes/clitics.lexc</a>\n",
    "* <a href=\"https://victorio.uit.no/langtech/trunk/langs/olo/src/phonology/olo-phon.twolc\">olo-phon.twolc</a>\n",
    "\n",
    "or use a copies available in this directory. We will use a simplified test case where stems/nouns.lexc will be\n",
    "replaced with a single-stem file kala.lexc."
   ]
  },
  {
   "cell_type": "markdown",
   "metadata": {},
   "source": [
    "Multicharacter symbols and root and end lexica are listed in file\n",
    "<a href=\"https://victorio.uit.no/langtech/trunk/langs/olo/src/morphology/root.lexc\">root.lexc</a>."
   ]
  },
  {
   "cell_type": "markdown",
   "metadata": {},
   "source": [
    "We used a simplified one-stem version of stems/nouns.lexc named kala.lexc.\n",
    "\n",
    "```\n",
    "LEXICON nouns\n",
    "kala+N:kala N_KALA ;\n",
    "```"
   ]
  },
  {
   "cell_type": "markdown",
   "metadata": {},
   "source": [
    "Then, we can use the affix file as such. The most important parts are:\n",
    "\n",
    "```\n",
    "LEXICON N_KALA !!= @CODE@ kala:kala\n",
    "!! Gradation NA\n",
    "!! Harmony: Back\n",
    "!! stem final a changes to u in Sg Par\n",
    "!! stem final a changes to o before i in Pl stem\n",
    ": ATTESTED-NOUN-STEM ;\n",
    "        N_KALA-SG  ;\n",
    "        N_KALA-PL  ;\n",
    "LEXICON N_KALA-SG\n",
    ":%{back%} NMN_KALA ;\n",
    "LEXICON N_KALA-PL\n",
    ":%{back%} NMN_KALA-PL ;\n",
    "LEXICON N-HUM_KALA\n",
    "+Sem/Hum: NMN_KALA ;\n",
    "# ```                \n",
    "\n",
    "and the continuation lexica (N_KALA-SG, N_KALA-PL, NMN_KALA, NMN_KALA-PL, N-HUM_KALA)."
   ]
  },
  {
   "cell_type": "markdown",
   "metadata": {},
   "source": [
    "The clitics file (WORD-END is defined in file root.lexc):\n",
    "\n",
    "```\n",
    "!! Clitics\n",
    "!  --------------------\n",
    "!! Livvi clitics\n",
    "\n",
    "LEXICON K\n",
    "+Clt/gi:%>gi WORD-END \"also / -kin\" ;\n",
    "!+Clt/hAi:%>h%{aä%}i WORD-END \" / -hAn\" ;\n",
    "+Clt/hAi:%>häi WORD-END \" / -hAn\" ;\n",
    "+Clt/bo:%>bo WORD-END \" / -pA\" ;\n",
    "+Qst:%>go WORD-END \" / -kO\" ;\n",
    "WORD-END ; \n",
    "\n",
    "# ```"
   ]
  },
  {
   "cell_type": "markdown",
   "metadata": {},
   "source": [
    "We use olo-phon.lexc as such. Note e.g.:\n",
    "\n",
    "``` \n",
    "LEXICON NMN_KALA-PL\n",
    " PLNOMSUF-USUALLY-WEAK ;\n",
    " :%^A2O%>j PL-GEN/COM/APRSUF_EN ;\n",
    " :%^A2O%>i PLPARSUF_Zero ;\n",
    " :%^A2O%>i PLINSSUF ;\n",
    " +Pl:%^A2O%>i OBLIQUE-CASES-NOT-GENITIVE-DERIVATIVES ;\n",
    "```"
   ]
  },
  {
   "cell_type": "code",
   "execution_count": null,
   "metadata": {},
   "outputs": [],
   "source": [
    "# First, compile the lexc files:\n",
    "#\n",
    "# TODO: we have to catenate the files: cat root.lexc kala.lexc nouns.lexc clitics.lexc > root_kala_nouns_clitics.lexc\n",
    "from hfst_dev import compile_lexc_file, compile_twolc_file, HfstInputStream, regex, HfstTransducer, intersect, EPSILON"
   ]
  },
  {
   "cell_type": "code",
   "execution_count": null,
   "metadata": {},
   "outputs": [],
   "source": [
    "kala = compile_lexc_file('root_kala_nouns_clitics.lexc')\n",
    "print(kala.lookup('kala+N+Pl+Ade'))"
   ]
  },
  {
   "cell_type": "markdown",
   "metadata": {},
   "source": [
    "Without the rules, the result is (('kala{back}^A2O>i>l', 0.0),)"
   ]
  },
  {
   "cell_type": "markdown",
   "metadata": {},
   "source": [
    "Phonetic rules in file olo-phon.twolc, e.g.:\n",
    "\n",
    "```\n",
    "\"a:o in the plural and preterite\"\n",
    "!! __@RULENAME@__\n",
    "a:o <=> Cns: _ (%{back%}:) (%^WGStem:) %^A2O: ;\n",
    "```"
   ]
  },
  {
   "cell_type": "markdown",
   "metadata": {},
   "source": [
    "Then compile twolc rules (TODO: result is written to file):\n",
    "This takes some time and we get verbose output:\n",
    "\n",
    "```\n",
    "Reading alphabet.\n",
    "Reading sets.\n",
    "Reading and compiling definitions.\n",
    "Reading rules and compiling their contexts and centers.\n",
    "Compiling rules.\n",
    "Storing rules.\n",
    "```"
   ]
  },
  {
   "cell_type": "markdown",
   "metadata": {},
   "source": [
    "compile_twolc_file('olo-phon.twolc','olo-phon.hfst')"
   ]
  },
  {
   "cell_type": "code",
   "execution_count": null,
   "metadata": {},
   "outputs": [],
   "source": [
    "istr = HfstInputStream('olo-phon.hfst')\n",
    "rules = istr.read_all()\n",
    "istr.close()"
   ]
  },
  {
   "cell_type": "code",
   "execution_count": null,
   "metadata": {},
   "outputs": [],
   "source": [
    "# We get 86 rules in total:\n",
    "print(len(rules))"
   ]
  },
  {
   "cell_type": "markdown",
   "metadata": {},
   "source": [
    "We compose-intersect the lexicon with the rules"
   ]
  },
  {
   "cell_type": "code",
   "execution_count": null,
   "metadata": {},
   "outputs": [],
   "source": [
    "kala.compose_intersect(rules)\n",
    "print(kala.lookup('kala+N+Pl+Ade'))\n",
    "print(kala.lookup('kala+N+Pl+Abl'))"
   ]
  },
  {
   "cell_type": "markdown",
   "metadata": {},
   "source": [
    "and get the result (('kalo>i>l', 0.0),)\n",
    "\n",
    "'>' means morpheme boundary"
   ]
  },
  {
   "cell_type": "markdown",
   "metadata": {},
   "source": [
    "```\n",
    "kala+N+Pl+Ade: kaloil\n",
    "kala+N+Pl+Abl: [kaloilpäi, kaloil]\n",
    "```"
   ]
  },
  {
   "cell_type": "code",
   "execution_count": null,
   "metadata": {},
   "outputs": [],
   "source": [
    "for testcase in ('kala+N+Pl+Ade','kala+N+Pl+Abl'):\n",
    "    results = kala.lookup(testcase)\n",
    "    for res in results:\n",
    "        print(res[0].replace('>',''))"
   ]
  },
  {
   "cell_type": "code",
   "execution_count": null,
   "metadata": {},
   "outputs": [],
   "source": [
    "# Get rid of morpheme boundary '>'.\n",
    "kala.substitute('>',EPSILON)\n",
    "kala.minimize()"
   ]
  },
  {
   "cell_type": "markdown",
   "metadata": {},
   "source": [
    "Check that each generated form produced by kala is listed\n",
    "as a possible result in yaml file:"
   ]
  },
  {
   "cell_type": "code",
   "execution_count": null,
   "metadata": {},
   "outputs": [],
   "source": [
    "with open (\"N-kala_gt-norm.yaml\", \"r\") as myfile:\n",
    "    data=myfile.readlines()\n",
    "for line in data:\n",
    "    if '     ' in line:\n",
    "        # kala+N+Sg+Abe: [kalata, kalattah]\n",
    "        pair = line.split(': ')\n",
    "        # 'kala+N+Sg+Abe'\n",
    "        analysis = pair[0].replace('     ','')\n",
    "        # ('kalata', 'kalattah')\n",
    "        generation = pair[1].replace('\\n','').replace('[','').replace(']','').split(', ')\n",
    "        results = kala.lookup(analysis)\n",
    "        for res in results:\n",
    "            # res[0] is the output form, res[1] is the weight\n",
    "            if res[0] not in generation:\n",
    "                print('unknown result for analysis \"' + analysis + '\": \"' + res[0] + '\"')"
   ]
  },
  {
   "cell_type": "markdown",
   "metadata": {},
   "source": [
    "Invert the generator to get an analyser."
   ]
  },
  {
   "cell_type": "code",
   "execution_count": null,
   "metadata": {},
   "outputs": [],
   "source": [
    "kala.invert()\n",
    "kala.minimize()\n",
    "print(kala.lookup('kaloil'))"
   ]
  }
 ],
 "metadata": {
  "jupytext": {
   "main_language": "python",
   "text_representation": {
    "extension": ".py",
    "format_name": "light"
   }
  }
 },
 "nbformat": 4,
 "nbformat_minor": 2
}
